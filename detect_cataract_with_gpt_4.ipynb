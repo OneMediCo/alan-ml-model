{
  "cells": [
    {
      "cell_type": "markdown",
      "metadata": {
        "id": "view-in-github",
        "colab_type": "text"
      },
      "source": [
        "<a href=\"https://colab.research.google.com/github/OneMediCo/alan-ml-model/blob/main/detect_cataract_with_gpt_4.ipynb\" target=\"_parent\"><img src=\"https://colab.research.google.com/assets/colab-badge.svg\" alt=\"Open In Colab\"/></a>"
      ]
    },
    {
      "cell_type": "code",
      "execution_count": 1,
      "metadata": {
        "colab": {
          "base_uri": "https://localhost:8080/"
        },
        "id": "tPPxZkzdN7UL",
        "outputId": "817dc978-286c-4fab-9c09-8fa6313381c9"
      },
      "outputs": [
        {
          "output_type": "stream",
          "name": "stdout",
          "text": [
            "Mounted at /content/drive\n"
          ]
        }
      ],
      "source": [
        "from google.colab import drive\n",
        "drive.mount('/content/drive', force_remount=True)"
      ]
    },
    {
      "cell_type": "code",
      "execution_count": 3,
      "metadata": {
        "id": "1JSnNLudLsHt"
      },
      "outputs": [],
      "source": [
        "import os\n",
        "import cv2\n",
        "import numpy as np\n",
        "import matplotlib.pyplot as plt\n",
        "from sklearn.model_selection import train_test_split\n",
        "from tensorflow import keras\n",
        "from tensorflow import nn, multiply\n",
        "from tensorflow.keras.models import Sequential\n",
        "from tensorflow.keras.layers import Conv2D, MaxPooling2D, Dropout, Flatten, Dense, GlobalAveragePooling2D, Reshape, Add\n",
        "from tensorflow.keras.optimizers import Adam\n",
        "from tensorflow.keras.preprocessing.image import ImageDataGenerator"
      ]
    },
    {
      "cell_type": "code",
      "execution_count": 4,
      "metadata": {
        "id": "5vaHuD3rL6hv"
      },
      "outputs": [],
      "source": [
        "data_dir = '/content/drive/MyDrive/Alan/CataractData/EyeImagesTakenFromCamera2'\n",
        "train_data_dir = data_dir + '/Train/'\n",
        "# Define image directories\n",
        "cataract_dir = data_dir + '/Train/Cataract/'\n",
        "normal_dir = data_dir + '/Train/Normal/'"
      ]
    },
    {
      "cell_type": "code",
      "execution_count": 4,
      "metadata": {
        "id": "hBDBcjvsV5FS"
      },
      "outputs": [],
      "source": [
        "from tensorflow.keras import layers\n",
        "\n",
        "class SEBlock(layers.Layer):\n",
        "    def __init__(self, reduction=16):\n",
        "        super(SEBlock, self).__init__()\n",
        "        self.reduction = reduction\n",
        "\n",
        "    def build(self, input_shape):\n",
        "        channels = input_shape[-1]\n",
        "        self.squeeze = layers.GlobalAveragePooling2D()\n",
        "        self.expand1 = layers.Dense(channels // self.reduction, activation='relu')\n",
        "        self.expand2 = layers.Dense(channels, activation='sigmoid')\n",
        "\n",
        "    def call(self, inputs):\n",
        "        x = self.squeeze(inputs)\n",
        "        x = self.expand1(x)\n",
        "        x = self.expand2(x)\n",
        "        return layers.multiply([inputs, x])\n"
      ]
    },
    {
      "cell_type": "code",
      "execution_count": 8,
      "metadata": {
        "colab": {
          "base_uri": "https://localhost:8080/"
        },
        "id": "E-2ryW5PMW3_",
        "outputId": "d6873271-d66f-43c9-dece-22e07f28710c"
      },
      "outputs": [
        {
          "output_type": "stream",
          "name": "stdout",
          "text": [
            "Found 6528 images belonging to 2 classes.\n",
            "Found 1631 images belonging to 2 classes.\n"
          ]
        }
      ],
      "source": [
        "import cv2\n",
        "from tensorflow.keras.preprocessing.image import ImageDataGenerator\n",
        "\n",
        "def preprocess_image(gray_image):\n",
        "    # Step 1: Thresholding to create a binary mask\n",
        "    _, binary_mask = cv2.threshold(gray_image, 240, 255, cv2.THRESH_BINARY)\n",
        "\n",
        "    # Step 2: Dilating the binary mask\n",
        "    kernel = np.ones((5, 5), np.uint8)\n",
        "    dilated = cv2.dilate(binary_mask, kernel, iterations=1)\n",
        "\n",
        "    # Step 3: Inpainting to fill in the glare regions\n",
        "    mask = np.uint8(dilated)\n",
        "    result = cv2.inpaint(gray_image, mask, 3, cv2.INPAINT_NS)\n",
        "\n",
        "    # Reshape result to (height, width, 1)\n",
        "    result = np.expand_dims(result, axis=-1)\n",
        "\n",
        "    return result\n",
        "\n",
        "\n",
        "\n",
        "missing_files_counter = 0\n",
        "def ignore_if_file_not_found(gen):\n",
        "  while True:\n",
        "    try:\n",
        "      data, labels = next(gen)\n",
        "      yield data, labels\n",
        "    except:\n",
        "      missing_files_counter += 1\n",
        "\n",
        "# Create an instance of ImageDataGenerator\n",
        "datagen = ImageDataGenerator(\n",
        "    preprocessing_function=preprocess_image,  # Your preprocessing function\n",
        "    validation_split=0.2,  # Reserve 20% of the data for validation\n",
        ")\n",
        "\n",
        "# Create a training data generator\n",
        "train_gen = datagen.flow_from_directory(\n",
        "    directory=train_data_dir,  # The directory where your images are\n",
        "    target_size=(512, 512),  # The target image size\n",
        "    color_mode='grayscale',  # Convert images to grayscale\n",
        "    class_mode='binary',  # For binary classification\n",
        "    batch_size=10,  # The number of images to generate per batch\n",
        "    subset='training'  # This is the training set\n",
        ")\n",
        "\n",
        "# Create a validation data generator\n",
        "val_gen = datagen.flow_from_directory(\n",
        "    directory=train_data_dir,  # The directory where your images are\n",
        "    target_size=(512, 512),  # The target image size\n",
        "    color_mode='grayscale',  # Convert images to grayscale\n",
        "    class_mode='binary',  # For binary classification\n",
        "    batch_size=10,  # The number of images to generate per batch\n",
        "    subset='validation'  # This is the validation set\n",
        ")\n"
      ]
    },
    {
      "cell_type": "code",
      "execution_count": 6,
      "metadata": {
        "id": "wwGnBE3rQwii"
      },
      "outputs": [],
      "source": [
        "# Define the model\n",
        "model = Sequential()\n",
        "\n",
        "model.add(Conv2D(32, kernel_size=(3, 3), activation='relu', input_shape=(512, 512, 1)))\n",
        "model.add(MaxPooling2D(pool_size=(2, 2)))\n",
        "\n",
        "model.add(Conv2D(64, kernel_size=(3, 3), activation='relu'))\n",
        "model.add(MaxPooling2D(pool_size=(2, 2)))\n",
        "\n",
        "model.add(Conv2D(128, kernel_size=(3, 3), activation='relu'))\n",
        "model.add(MaxPooling2D(pool_size=(2, 2)))\n",
        "\n",
        "model.add(SEBlock(128))\n",
        "\n",
        "model.add(Flatten())\n",
        "model.add(Dense(128, activation='relu'))\n",
        "model.add(Dropout(0.5))\n",
        "model.add(Dense(1, activation='sigmoid'))\n",
        "\n",
        "model.compile(optimizer = 'adam', loss = 'binary_crossentropy', metrics = ['accuracy'])\n"
      ]
    },
    {
      "cell_type": "code",
      "execution_count": 7,
      "metadata": {
        "colab": {
          "base_uri": "https://localhost:8080/"
        },
        "id": "8ZtzFPjZWXWC",
        "outputId": "8e1b5a1c-169c-42a3-84f6-774b4f066698"
      },
      "outputs": [
        {
          "output_type": "stream",
          "name": "stdout",
          "text": [
            "Epoch 1/10\n",
            "653/653 [==============================] - 1382s 2s/step - loss: 3.7586 - accuracy: 0.6924 - val_loss: 0.5623 - val_accuracy: 0.7321\n",
            "Epoch 2/10\n",
            "653/653 [==============================] - 875s 1s/step - loss: 0.5551 - accuracy: 0.7405 - val_loss: 0.5884 - val_accuracy: 0.7155\n",
            "Epoch 3/10\n",
            "653/653 [==============================] - 879s 1s/step - loss: 0.4597 - accuracy: 0.7996 - val_loss: 0.6477 - val_accuracy: 0.7431\n",
            "Epoch 4/10\n",
            "653/653 [==============================] - 876s 1s/step - loss: 0.3824 - accuracy: 0.8415 - val_loss: 0.6176 - val_accuracy: 0.7265\n",
            "Epoch 5/10\n",
            "653/653 [==============================] - 880s 1s/step - loss: 0.2807 - accuracy: 0.8876 - val_loss: 0.8056 - val_accuracy: 0.7431\n",
            "Epoch 6/10\n",
            "653/653 [==============================] - 880s 1s/step - loss: 0.2685 - accuracy: 0.9079 - val_loss: 1.0516 - val_accuracy: 0.7406\n",
            "Epoch 7/10\n",
            "653/653 [==============================] - 873s 1s/step - loss: 0.3207 - accuracy: 0.8989 - val_loss: 0.8652 - val_accuracy: 0.7456\n",
            "Epoch 8/10\n",
            "653/653 [==============================] - 872s 1s/step - loss: 0.2017 - accuracy: 0.9340 - val_loss: 0.7868 - val_accuracy: 0.7437\n",
            "Epoch 9/10\n",
            "653/653 [==============================] - 870s 1s/step - loss: 0.1796 - accuracy: 0.9384 - val_loss: 1.1606 - val_accuracy: 0.7425\n",
            "Epoch 10/10\n",
            "653/653 [==============================] - 899s 1s/step - loss: 0.1101 - accuracy: 0.9655 - val_loss: 1.5455 - val_accuracy: 0.7394\n"
          ]
        },
        {
          "output_type": "execute_result",
          "data": {
            "text/plain": [
              "<keras.callbacks.History at 0x796750b39a50>"
            ]
          },
          "metadata": {},
          "execution_count": 7
        }
      ],
      "source": [
        "model.fit(train_gen, validation_data=val_gen, epochs=10, batch_size=10)"
      ]
    },
    {
      "cell_type": "code",
      "execution_count": 8,
      "metadata": {
        "colab": {
          "base_uri": "https://localhost:8080/",
          "height": 843
        },
        "id": "u4iSUOvTN4H3",
        "outputId": "ba7a35e9-1b68-4845-820f-9d19c39727b1"
      },
      "outputs": [
        {
          "output_type": "display_data",
          "data": {
            "text/plain": [
              "<Figure size 640x480 with 1 Axes>"
            ],
            "image/png": "[encoded data removed]"
          },
          "metadata": {}
        },
        {
          "output_type": "display_data",
          "data": {
            "text/plain": [
              "<Figure size 640x480 with 1 Axes>"
            ],
            "image/png": "[encoded data removed]"
          },
          "metadata": {}
        }
      ],
      "source": [
        "import matplotlib.pyplot as plt\n",
        "plt.plot(model.history.history[\"accuracy\"], label=\"training accuracy\")\n",
        "plt.plot(model.history.history[\"val_accuracy\"], label=\"validation accuracy\")\n",
        "plt.legend()\n",
        "plt.show()\n",
        "\n",
        "plt.plot(model.history.history[\"loss\"], label=\"training loss\")\n",
        "plt.plot(model.history.history[\"val_loss\"], label=\"validation loss\")\n",
        "plt.legend()\n",
        "plt.show()"
      ]
    },
    {
      "cell_type": "code",
      "execution_count": 5,
      "metadata": {
        "colab": {
          "base_uri": "https://localhost:8080/",
          "height": 274
        },
        "id": "EPbqfM3kQICx",
        "outputId": "d0cbca54-7a73-48cf-c313-b3041479271a"
      },
      "outputs": [
        {
          "output_type": "stream",
          "name": "stdout",
          "text": [
            "export_path = /content/drive/MyDrive/Alan/Model/gpt-4-detect-cataract-0.1-1689524565\n",
            "\n"
          ]
        },
        {
          "output_type": "error",
          "ename": "NameError",
          "evalue": "ignored",
          "traceback": [
            "\u001b[0;31m---------------------------------------------------------------------------\u001b[0m",
            "\u001b[0;31mNameError\u001b[0m                                 Traceback (most recent call last)",
            "\u001b[0;32m<ipython-input-5-85c1ed6149cb>\u001b[0m in \u001b[0;36m<cell line: 9>\u001b[0;34m()\u001b[0m\n\u001b[1;32m      8\u001b[0m \u001b[0;34m\u001b[0m\u001b[0m\n\u001b[1;32m      9\u001b[0m keras.models.save_model(\n\u001b[0;32m---> 10\u001b[0;31m     \u001b[0mmodel\u001b[0m\u001b[0;34m,\u001b[0m\u001b[0;34m\u001b[0m\u001b[0;34m\u001b[0m\u001b[0m\n\u001b[0m\u001b[1;32m     11\u001b[0m     \u001b[0mexport_path\u001b[0m\u001b[0;34m\u001b[0m\u001b[0;34m\u001b[0m\u001b[0m\n\u001b[1;32m     12\u001b[0m )\n",
            "\u001b[0;31mNameError\u001b[0m: name 'model' is not defined"
          ]
        }
      ],
      "source": [
        "import datetime\n",
        "import os\n",
        "\n",
        "MODEL_DIR = '/content/drive/MyDrive/Alan/Model'\n",
        "version = int(datetime.datetime.now().timestamp())\n",
        "export_path = os.path.join(MODEL_DIR, 'gpt-4-detect-cataract-0.1-' + str(version))\n",
        "print('export_path = {}\\n'.format(export_path))\n",
        "\n",
        "keras.models.save_model(\n",
        "    model,\n",
        "    export_path\n",
        ")\n",
        "\n",
        "print('\\nSaved model:')\n",
        "!ls -l {export_path}"
      ]
    },
    {
      "cell_type": "code",
      "execution_count": 6,
      "metadata": {
        "id": "uGv9giI0XENg"
      },
      "outputs": [],
      "source": [
        "import os\n",
        "import cv2\n",
        "import numpy as np\n",
        "import matplotlib.pyplot as plt\n",
        "from sklearn.model_selection import train_test_split\n",
        "from tensorflow import keras\n",
        "from tensorflow import nn, multiply\n",
        "from tensorflow.keras.models import Sequential\n",
        "from tensorflow.keras.layers import Conv2D, MaxPooling2D, Dropout, Flatten, Dense, GlobalAveragePooling2D, Reshape, Add\n",
        "from tensorflow.keras.optimizers import Adam\n",
        "from tensorflow.keras.preprocessing.image import ImageDataGenerator\n",
        "def predict_eye_condition(image_path, model):\n",
        "    # Load and preprocess the image\n",
        "    image = cv2.imread(image_path)\n",
        "    #image = preprocess_image(image)\n",
        "    #image = cv2.resize(image, (512, 512))\n",
        "\n",
        "    # Keras models expect batches of images, so we have to add a dimension to the image\n",
        "    #image = np.expand_dims(image, axis=0)\n",
        "\n",
        "    # Use the model to predict the image's label\n",
        "    prediction = model.predict(image)\n",
        "\n",
        "    # Output the result\n",
        "    if prediction < 0.5:\n",
        "        print('The model predicts this image is a normal eye.')\n",
        "    else:\n",
        "        print('The model predicts this image is an eye with cataract.')\n",
        "\n",
        "from tensorflow import expand_dims\n",
        "def predict_cataract_or_not(image_path, model):\n",
        "  img = keras.utils.load_img(\n",
        "      image_path, target_size=(512,512)\n",
        "  )\n",
        "  img_array = keras.utils.img_to_array(img)\n",
        "  img_array = expand_dims(img_array, 0)\n",
        "  # model = tensorflow.keras.models.load_model('/content/drive/MyDrive/Alan/Model/verify-cataract-0.11-1687807308')\n",
        "  predictions = model.predict(img_array)\n",
        "  return 'normal' if predictions[0][0] == 1 else 'cataract'"
      ]
    },
    {
      "cell_type": "code",
      "execution_count": 9,
      "metadata": {
        "id": "W85kB_AKtBTc",
        "colab": {
          "base_uri": "https://localhost:8080/"
        },
        "outputId": "bd4ca75a-60f7-458e-8a15-3ff07c7b65cf"
      },
      "outputs": [
        {
          "output_type": "stream",
          "name": "stdout",
          "text": [
            "Found 200 images belonging to 2 classes.\n",
            "200/200 [==============================] - 35s 172ms/step\n"
          ]
        }
      ],
      "source": [
        "test_data_dir = data_dir + '/Test'\n",
        "test_datagen = ImageDataGenerator(preprocessing_function=preprocess_image)\n",
        "test_set = test_datagen.flow_from_directory(\n",
        "    test_data_dir,\n",
        "    target_size=(512, 512),  # The target image size\n",
        "    color_mode='grayscale',  # Convert images to grayscale\n",
        "    class_mode='binary',  # For binary classification\n",
        "    batch_size=1,  # The number of images to generate per batch\n",
        ")\n",
        "\n",
        "loaded_model = keras.models.load_model(MODEL_DIR + '/gpt-4-detect-cataract-0.1-1689497097/')\n",
        "predictions = loaded_model.predict(test_set)\n",
        "\n"
      ]
    },
    {
      "cell_type": "code",
      "execution_count": 10,
      "metadata": {
        "colab": {
          "base_uri": "https://localhost:8080/"
        },
        "id": "fN5S2W0MxHqJ",
        "outputId": "fda35e25-ff6e-416b-e6fe-b362df0b2557"
      },
      "outputs": [
        {
          "output_type": "stream",
          "name": "stdout",
          "text": [
            "                        File Predictions\n",
            "0    Cataract/cat_0_1981.jpg    Cataract\n",
            "1    Cataract/cat_0_1984.jpg    Cataract\n",
            "2    Cataract/cat_0_1987.jpg      Normal\n",
            "3    Cataract/cat_0_1988.jpg      Normal\n",
            "4    Cataract/cat_0_1989.jpg      Normal\n",
            "..                       ...         ...\n",
            "195    Normal/cat_0_1925.jpg      Normal\n",
            "196    Normal/cat_0_1928.jpg    Cataract\n",
            "197    Normal/cat_0_1930.jpg      Normal\n",
            "198    Normal/cat_0_1931.jpg    Cataract\n",
            "199    Normal/cat_0_1937.jpg      Normal\n",
            "\n",
            "[200 rows x 2 columns]\n",
            "Test matches 0.52\n"
          ]
        }
      ],
      "source": [
        "import pandas as pd\n",
        "predicted_class_indices = [1 if float(p[0]) > 0.5 else 0 for p in predictions]\n",
        "labels = (test_set.class_indices)\n",
        "labels = dict((v,k) for k,v in labels.items())\n",
        "preds = [labels[k] for k in predicted_class_indices]\n",
        "results=pd.DataFrame({\"File\":test_set.filenames,\n",
        "                      \"Predictions\":preds})\n",
        "print(results)\n",
        "test_matches = [1 if results['Predictions'][ind] in results['File'][ind] else 0 for ind in results.index]\n",
        "print('Test matches', float(sum(test_matches)/len(test_matches)))\n",
        "\n",
        "\n"
      ]
    },
    {
      "cell_type": "code",
      "execution_count": 13,
      "metadata": {
        "id": "7II7t4GKwX15",
        "colab": {
          "base_uri": "https://localhost:8080/",
          "height": 257
        },
        "outputId": "b1ec7d90-08eb-4199-eebb-a392b5b03014"
      },
      "outputs": [
        {
          "output_type": "error",
          "ename": "AttributeError",
          "evalue": "ignored",
          "traceback": [
            "\u001b[0;31m---------------------------------------------------------------------------\u001b[0m",
            "\u001b[0;31mAttributeError\u001b[0m                            Traceback (most recent call last)",
            "\u001b[0;32m<ipython-input-13-675dd67b472f>\u001b[0m in \u001b[0;36m<cell line: 4>\u001b[0;34m()\u001b[0m\n\u001b[1;32m      2\u001b[0m \u001b[0mnormal_matching\u001b[0m \u001b[0;34m=\u001b[0m \u001b[0;36m0\u001b[0m\u001b[0;34m\u001b[0m\u001b[0;34m\u001b[0m\u001b[0m\n\u001b[1;32m      3\u001b[0m \u001b[0mcataract_matching\u001b[0m \u001b[0;34m=\u001b[0m \u001b[0;36m0\u001b[0m\u001b[0;34m\u001b[0m\u001b[0;34m\u001b[0m\u001b[0m\n\u001b[0;32m----> 4\u001b[0;31m \u001b[0;32mfor\u001b[0m \u001b[0mimage_path\u001b[0m\u001b[0;34m,\u001b[0m \u001b[0mprediction\u001b[0m \u001b[0;32min\u001b[0m \u001b[0mpredictions\u001b[0m\u001b[0;34m.\u001b[0m\u001b[0mitems\u001b[0m\u001b[0;34m(\u001b[0m\u001b[0;34m)\u001b[0m\u001b[0;34m:\u001b[0m\u001b[0;34m\u001b[0m\u001b[0;34m\u001b[0m\u001b[0m\n\u001b[0m\u001b[1;32m      5\u001b[0m   \u001b[0;32mif\u001b[0m \u001b[0;34m(\u001b[0m\u001b[0mimage_path\u001b[0m\u001b[0;34m.\u001b[0m\u001b[0mstartswith\u001b[0m\u001b[0;34m(\u001b[0m\u001b[0;34m'/content/drive/MyDrive/Alan/CataractData/EyeImagesTakenFromCamera2/Test/Normal'\u001b[0m\u001b[0;34m)\u001b[0m \u001b[0;32mand\u001b[0m \u001b[0mprediction\u001b[0m \u001b[0;34m==\u001b[0m \u001b[0;34m'normal'\u001b[0m\u001b[0;34m)\u001b[0m\u001b[0;34m:\u001b[0m\u001b[0;34m\u001b[0m\u001b[0;34m\u001b[0m\u001b[0m\n\u001b[1;32m      6\u001b[0m     \u001b[0mnormal_matching\u001b[0m \u001b[0;34m+=\u001b[0m \u001b[0;36m1\u001b[0m\u001b[0;34m\u001b[0m\u001b[0;34m\u001b[0m\u001b[0m\n",
            "\u001b[0;31mAttributeError\u001b[0m: 'numpy.ndarray' object has no attribute 'items'"
          ]
        }
      ],
      "source": [
        "matching = 0\n",
        "normal_matching = 0\n",
        "cataract_matching = 0\n",
        "for image_path, prediction in predictions.items():\n",
        "  if (image_path.startswith('/content/drive/MyDrive/Alan/CataractData/EyeImagesTakenFromCamera2/Test/Normal') and prediction == 'normal'):\n",
        "    normal_matching += 1\n",
        "  if (image_path.startswith('/content/drive/MyDrive/Alan/CataractData/EyeImagesTakenFromCamera2/Test/Cataract') and prediction == 'cataract'):\n",
        "    cataract_matching += 1\n",
        "\n",
        "matching = normal_matching + cataract_matching\n",
        "print('------------ Overall ---------------')\n",
        "print(matching, 'out of', len(predictions))\n",
        "print(matching/len(predictions))\n",
        "print('---------------- Normal --------------')\n",
        "print(normal_matching, 'out of', int(len(predictions)/2))\n",
        "print(normal_matching/(len(predictions)/2))\n",
        "print('---------------- Cataract --------------')\n",
        "print(cataract_matching, 'out of', int(len(predictions)/2))\n",
        "print(cataract_matching/(len(predictions)/2))"
      ]
    }
  ],
  "metadata": {
    "accelerator": "TPU",
    "colab": {
      "machine_shape": "hm",
      "provenance": [],
      "mount_file_id": "1rdg_rkCtZredCZmmfKAdN-kMEXJCSd1l",
      "authorship_tag": "ABX9TyM/TjvqqTFQF0r0EyDdISs0",
      "include_colab_link": true
    },
    "kernelspec": {
      "display_name": "Python 3",
      "name": "python3"
    },
    "language_info": {
      "name": "python"
    }
  },
  "nbformat": 4,
  "nbformat_minor": 0
}